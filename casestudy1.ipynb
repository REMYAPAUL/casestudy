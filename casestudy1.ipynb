{
  "nbformat": 4,
  "nbformat_minor": 0,
  "metadata": {
    "colab": {
      "provenance": []
    },
    "kernelspec": {
      "name": "python3",
      "display_name": "Python 3"
    },
    "language_info": {
      "name": "python"
    }
  },
  "cells": [
    {
      "cell_type": "code",
      "source": [
        "#importing pakages\n",
        "import numpy as np\n",
        "import pandas as pd\n",
        "import matplotlib.pyplot as plt\n",
        "df = pd.read_csv('/content/USA_Housing.csv')"
      ],
      "metadata": {
        "id": "UxhlJfLFqmlX"
      },
      "execution_count": null,
      "outputs": []
    },
    {
      "cell_type": "code",
      "source": [
        "#knowing the data\n",
        "print(df.head)"
      ],
      "metadata": {
        "id": "DQkbMacUqmqb",
        "colab": {
          "base_uri": "https://localhost:8080/"
        },
        "outputId": "4058507d-2a11-4d4e-a078-c26cb6e84812"
      },
      "execution_count": null,
      "outputs": [
        {
          "output_type": "stream",
          "name": "stdout",
          "text": [
            "<bound method NDFrame.head of       Avg. Area Income  Avg. Area House Age  Avg. Area Number of Rooms  \\\n",
            "0         79545.458574             5.682861                   7.009188   \n",
            "1         79248.642455             6.002900                   6.730821   \n",
            "2         61287.067179             5.865890                   8.512727   \n",
            "3         63345.240046             7.188236                   5.586729   \n",
            "4         59982.197226             5.040555                   7.839388   \n",
            "...                ...                  ...                        ...   \n",
            "4995      60567.944140             7.830362                   6.137356   \n",
            "4996      78491.275435             6.999135                   6.576763   \n",
            "4997      63390.686886             7.250591                   4.805081   \n",
            "4998      68001.331235             5.534388                   7.130144   \n",
            "4999      65510.581804             5.992305                   6.792336   \n",
            "\n",
            "      Avg. Area Number of Bedrooms  Area Population         Price  \\\n",
            "0                             4.09     23086.800503  1.059034e+06   \n",
            "1                             3.09     40173.072174  1.505891e+06   \n",
            "2                             5.13     36882.159400  1.058988e+06   \n",
            "3                             3.26     34310.242831  1.260617e+06   \n",
            "4                             4.23     26354.109472  6.309435e+05   \n",
            "...                            ...              ...           ...   \n",
            "4995                          3.46     22837.361035  1.060194e+06   \n",
            "4996                          4.02     25616.115489  1.482618e+06   \n",
            "4997                          2.13     33266.145490  1.030730e+06   \n",
            "4998                          5.44     42625.620156  1.198657e+06   \n",
            "4999                          4.07     46501.283803  1.298950e+06   \n",
            "\n",
            "                                                Address  \n",
            "0     208 Michael Ferry Apt. 674\\nLaurabury, NE 3701...  \n",
            "1     188 Johnson Views Suite 079\\nLake Kathleen, CA...  \n",
            "2     9127 Elizabeth Stravenue\\nDanieltown, WI 06482...  \n",
            "3                             USS Barnett\\nFPO AP 44820  \n",
            "4                            USNS Raymond\\nFPO AE 09386  \n",
            "...                                                 ...  \n",
            "4995                   USNS Williams\\nFPO AP 30153-7653  \n",
            "4996              PSC 9258, Box 8489\\nAPO AA 42991-3352  \n",
            "4997  4215 Tracy Garden Suite 076\\nJoshualand, VA 01...  \n",
            "4998                          USS Wallace\\nFPO AE 73316  \n",
            "4999  37778 George Ridges Apt. 509\\nEast Holly, NV 2...  \n",
            "\n",
            "[5000 rows x 7 columns]>\n"
          ]
        }
      ]
    },
    {
      "cell_type": "code",
      "source": [
        "#knowing the data\n",
        "print(df.isna().sum())"
      ],
      "metadata": {
        "id": "olcVHUjBqmw7",
        "colab": {
          "base_uri": "https://localhost:8080/"
        },
        "outputId": "2736dd24-898f-44b5-bd35-beaf240a69af"
      },
      "execution_count": null,
      "outputs": [
        {
          "output_type": "stream",
          "name": "stdout",
          "text": [
            "Avg. Area Income                0\n",
            "Avg. Area House Age             0\n",
            "Avg. Area Number of Rooms       0\n",
            "Avg. Area Number of Bedrooms    0\n",
            "Area Population                 0\n",
            "Price                           0\n",
            "Address                         0\n",
            "dtype: int64\n"
          ]
        }
      ]
    },
    {
      "cell_type": "code",
      "source": [
        "#knowing the data\n",
        "df.shape"
      ],
      "metadata": {
        "colab": {
          "base_uri": "https://localhost:8080/"
        },
        "id": "H2mCHGC-56qr",
        "outputId": "08711b7f-8dfa-431a-ece2-09950b57f0ce"
      },
      "execution_count": null,
      "outputs": [
        {
          "output_type": "execute_result",
          "data": {
            "text/plain": [
              "(5000, 7)"
            ]
          },
          "metadata": {},
          "execution_count": 4
        }
      ]
    },
    {
      "cell_type": "code",
      "source": [
        "#knowing the data\n",
        "df.info()"
      ],
      "metadata": {
        "id": "i69b7oqpqm6-",
        "colab": {
          "base_uri": "https://localhost:8080/"
        },
        "outputId": "0ae75d63-c6bb-4b97-e7f1-91ff15c66222"
      },
      "execution_count": null,
      "outputs": [
        {
          "output_type": "stream",
          "name": "stdout",
          "text": [
            "<class 'pandas.core.frame.DataFrame'>\n",
            "RangeIndex: 5000 entries, 0 to 4999\n",
            "Data columns (total 7 columns):\n",
            " #   Column                        Non-Null Count  Dtype  \n",
            "---  ------                        --------------  -----  \n",
            " 0   Avg. Area Income              5000 non-null   float64\n",
            " 1   Avg. Area House Age           5000 non-null   float64\n",
            " 2   Avg. Area Number of Rooms     5000 non-null   float64\n",
            " 3   Avg. Area Number of Bedrooms  5000 non-null   float64\n",
            " 4   Area Population               5000 non-null   float64\n",
            " 5   Price                         5000 non-null   float64\n",
            " 6   Address                       5000 non-null   object \n",
            "dtypes: float64(6), object(1)\n",
            "memory usage: 273.6+ KB\n"
          ]
        }
      ]
    },
    {
      "cell_type": "code",
      "source": [
        "df1.head()"
      ],
      "metadata": {
        "id": "VeG--CKoqnGo",
        "colab": {
          "base_uri": "https://localhost:8080/",
          "height": 206
        },
        "outputId": "14fd72d2-12fb-4918-f22e-d6155088ddf6"
      },
      "execution_count": null,
      "outputs": [
        {
          "output_type": "execute_result",
          "data": {
            "text/plain": [
              "   Avg. Area Income  Avg. Area House Age  Avg. Area Number of Rooms  \\\n",
              "0          0.686822             5.682861                   7.009188   \n",
              "1          0.683521             6.002900                   6.730821   \n",
              "2          0.483737             5.865890                   8.512727   \n",
              "3          0.506630             7.188236                   5.586729   \n",
              "4          0.469223             5.040555                   7.839388   \n",
              "\n",
              "   Avg. Area Number of Bedrooms  Area Population         Price  \n",
              "0                          4.09         0.329942  1.059034e+06  \n",
              "1                          3.09         0.575968  1.505891e+06  \n",
              "2                          5.13         0.528582  1.058988e+06  \n",
              "3                          3.26         0.491549  1.260617e+06  \n",
              "4                          4.23         0.376988  6.309435e+05  "
            ],
            "text/html": [
              "\n",
              "  <div id=\"df-0248ee82-15d6-4f6e-8030-7a9685b258b7\">\n",
              "    <div class=\"colab-df-container\">\n",
              "      <div>\n",
              "<style scoped>\n",
              "    .dataframe tbody tr th:only-of-type {\n",
              "        vertical-align: middle;\n",
              "    }\n",
              "\n",
              "    .dataframe tbody tr th {\n",
              "        vertical-align: top;\n",
              "    }\n",
              "\n",
              "    .dataframe thead th {\n",
              "        text-align: right;\n",
              "    }\n",
              "</style>\n",
              "<table border=\"1\" class=\"dataframe\">\n",
              "  <thead>\n",
              "    <tr style=\"text-align: right;\">\n",
              "      <th></th>\n",
              "      <th>Avg. Area Income</th>\n",
              "      <th>Avg. Area House Age</th>\n",
              "      <th>Avg. Area Number of Rooms</th>\n",
              "      <th>Avg. Area Number of Bedrooms</th>\n",
              "      <th>Area Population</th>\n",
              "      <th>Price</th>\n",
              "    </tr>\n",
              "  </thead>\n",
              "  <tbody>\n",
              "    <tr>\n",
              "      <th>0</th>\n",
              "      <td>0.686822</td>\n",
              "      <td>5.682861</td>\n",
              "      <td>7.009188</td>\n",
              "      <td>4.09</td>\n",
              "      <td>0.329942</td>\n",
              "      <td>1.059034e+06</td>\n",
              "    </tr>\n",
              "    <tr>\n",
              "      <th>1</th>\n",
              "      <td>0.683521</td>\n",
              "      <td>6.002900</td>\n",
              "      <td>6.730821</td>\n",
              "      <td>3.09</td>\n",
              "      <td>0.575968</td>\n",
              "      <td>1.505891e+06</td>\n",
              "    </tr>\n",
              "    <tr>\n",
              "      <th>2</th>\n",
              "      <td>0.483737</td>\n",
              "      <td>5.865890</td>\n",
              "      <td>8.512727</td>\n",
              "      <td>5.13</td>\n",
              "      <td>0.528582</td>\n",
              "      <td>1.058988e+06</td>\n",
              "    </tr>\n",
              "    <tr>\n",
              "      <th>3</th>\n",
              "      <td>0.506630</td>\n",
              "      <td>7.188236</td>\n",
              "      <td>5.586729</td>\n",
              "      <td>3.26</td>\n",
              "      <td>0.491549</td>\n",
              "      <td>1.260617e+06</td>\n",
              "    </tr>\n",
              "    <tr>\n",
              "      <th>4</th>\n",
              "      <td>0.469223</td>\n",
              "      <td>5.040555</td>\n",
              "      <td>7.839388</td>\n",
              "      <td>4.23</td>\n",
              "      <td>0.376988</td>\n",
              "      <td>6.309435e+05</td>\n",
              "    </tr>\n",
              "  </tbody>\n",
              "</table>\n",
              "</div>\n",
              "      <button class=\"colab-df-convert\" onclick=\"convertToInteractive('df-0248ee82-15d6-4f6e-8030-7a9685b258b7')\"\n",
              "              title=\"Convert this dataframe to an interactive table.\"\n",
              "              style=\"display:none;\">\n",
              "        \n",
              "  <svg xmlns=\"http://www.w3.org/2000/svg\" height=\"24px\"viewBox=\"0 0 24 24\"\n",
              "       width=\"24px\">\n",
              "    <path d=\"M0 0h24v24H0V0z\" fill=\"none\"/>\n",
              "    <path d=\"M18.56 5.44l.94 2.06.94-2.06 2.06-.94-2.06-.94-.94-2.06-.94 2.06-2.06.94zm-11 1L8.5 8.5l.94-2.06 2.06-.94-2.06-.94L8.5 2.5l-.94 2.06-2.06.94zm10 10l.94 2.06.94-2.06 2.06-.94-2.06-.94-.94-2.06-.94 2.06-2.06.94z\"/><path d=\"M17.41 7.96l-1.37-1.37c-.4-.4-.92-.59-1.43-.59-.52 0-1.04.2-1.43.59L10.3 9.45l-7.72 7.72c-.78.78-.78 2.05 0 2.83L4 21.41c.39.39.9.59 1.41.59.51 0 1.02-.2 1.41-.59l7.78-7.78 2.81-2.81c.8-.78.8-2.07 0-2.86zM5.41 20L4 18.59l7.72-7.72 1.47 1.35L5.41 20z\"/>\n",
              "  </svg>\n",
              "      </button>\n",
              "      \n",
              "  <style>\n",
              "    .colab-df-container {\n",
              "      display:flex;\n",
              "      flex-wrap:wrap;\n",
              "      gap: 12px;\n",
              "    }\n",
              "\n",
              "    .colab-df-convert {\n",
              "      background-color: #E8F0FE;\n",
              "      border: none;\n",
              "      border-radius: 50%;\n",
              "      cursor: pointer;\n",
              "      display: none;\n",
              "      fill: #1967D2;\n",
              "      height: 32px;\n",
              "      padding: 0 0 0 0;\n",
              "      width: 32px;\n",
              "    }\n",
              "\n",
              "    .colab-df-convert:hover {\n",
              "      background-color: #E2EBFA;\n",
              "      box-shadow: 0px 1px 2px rgba(60, 64, 67, 0.3), 0px 1px 3px 1px rgba(60, 64, 67, 0.15);\n",
              "      fill: #174EA6;\n",
              "    }\n",
              "\n",
              "    [theme=dark] .colab-df-convert {\n",
              "      background-color: #3B4455;\n",
              "      fill: #D2E3FC;\n",
              "    }\n",
              "\n",
              "    [theme=dark] .colab-df-convert:hover {\n",
              "      background-color: #434B5C;\n",
              "      box-shadow: 0px 1px 3px 1px rgba(0, 0, 0, 0.15);\n",
              "      filter: drop-shadow(0px 1px 2px rgba(0, 0, 0, 0.3));\n",
              "      fill: #FFFFFF;\n",
              "    }\n",
              "  </style>\n",
              "\n",
              "      <script>\n",
              "        const buttonEl =\n",
              "          document.querySelector('#df-0248ee82-15d6-4f6e-8030-7a9685b258b7 button.colab-df-convert');\n",
              "        buttonEl.style.display =\n",
              "          google.colab.kernel.accessAllowed ? 'block' : 'none';\n",
              "\n",
              "        async function convertToInteractive(key) {\n",
              "          const element = document.querySelector('#df-0248ee82-15d6-4f6e-8030-7a9685b258b7');\n",
              "          const dataTable =\n",
              "            await google.colab.kernel.invokeFunction('convertToInteractive',\n",
              "                                                     [key], {});\n",
              "          if (!dataTable) return;\n",
              "\n",
              "          const docLinkHtml = 'Like what you see? Visit the ' +\n",
              "            '<a target=\"_blank\" href=https://colab.research.google.com/notebooks/data_table.ipynb>data table notebook</a>'\n",
              "            + ' to learn more about interactive tables.';\n",
              "          element.innerHTML = '';\n",
              "          dataTable['output_type'] = 'display_data';\n",
              "          await google.colab.output.renderOutput(dataTable, element);\n",
              "          const docLink = document.createElement('div');\n",
              "          docLink.innerHTML = docLinkHtml;\n",
              "          element.appendChild(docLink);\n",
              "        }\n",
              "      </script>\n",
              "    </div>\n",
              "  </div>\n",
              "  "
            ]
          },
          "metadata": {},
          "execution_count": 7
        }
      ]
    },
    {
      "cell_type": "code",
      "source": [
        "#preprocessing\n",
        "from sklearn.preprocessing import MinMaxScaler\n",
        "sc = MinMaxScaler()\n",
        "df[['Avg. Area Income','Area Population']]=sc.fit_transform(df[['Avg. Area Income','Area Population']])\n",
        "df1=df.drop([\"Address\"],axis=1)"
      ],
      "metadata": {
        "id": "3MLLlrECqnA0"
      },
      "execution_count": null,
      "outputs": []
    },
    {
      "cell_type": "code",
      "source": [
        "#creating x and y\n",
        "x=df1[[\"Avg. Area Income\",\"Avg. Area House Age\",\"Avg. Area Number of Rooms\",\"Avg. Area Number of Bedrooms\",\"Area Population\"]]\n",
        "print(x)\n",
        "y=df1[\"Price\"]\n",
        "print(y)"
      ],
      "metadata": {
        "id": "BO5FsN9-0zGR",
        "colab": {
          "base_uri": "https://localhost:8080/"
        },
        "outputId": "d9f57339-4934-42d6-c9ef-cf4ef44b456f"
      },
      "execution_count": null,
      "outputs": [
        {
          "output_type": "stream",
          "name": "stdout",
          "text": [
            "      Avg. Area Income  Avg. Area House Age  Avg. Area Number of Rooms  \\\n",
            "0             0.686822             5.682861                   7.009188   \n",
            "1             0.683521             6.002900                   6.730821   \n",
            "2             0.483737             5.865890                   8.512727   \n",
            "3             0.506630             7.188236                   5.586729   \n",
            "4             0.469223             5.040555                   7.839388   \n",
            "...                ...                  ...                        ...   \n",
            "4995          0.475738             7.830362                   6.137356   \n",
            "4996          0.675097             6.999135                   6.576763   \n",
            "4997          0.507135             7.250591                   4.805081   \n",
            "4998          0.558419             5.534388                   7.130144   \n",
            "4999          0.530715             5.992305                   6.792336   \n",
            "\n",
            "      Avg. Area Number of Bedrooms  Area Population  \n",
            "0                             4.09         0.329942  \n",
            "1                             3.09         0.575968  \n",
            "2                             5.13         0.528582  \n",
            "3                             3.26         0.491549  \n",
            "4                             4.23         0.376988  \n",
            "...                            ...              ...  \n",
            "4995                          3.46         0.326351  \n",
            "4996                          4.02         0.366362  \n",
            "4997                          2.13         0.476515  \n",
            "4998                          5.44         0.611282  \n",
            "4999                          4.07         0.667088  \n",
            "\n",
            "[5000 rows x 5 columns]\n",
            "0       1.059034e+06\n",
            "1       1.505891e+06\n",
            "2       1.058988e+06\n",
            "3       1.260617e+06\n",
            "4       6.309435e+05\n",
            "            ...     \n",
            "4995    1.060194e+06\n",
            "4996    1.482618e+06\n",
            "4997    1.030730e+06\n",
            "4998    1.198657e+06\n",
            "4999    1.298950e+06\n",
            "Name: Price, Length: 5000, dtype: float64\n"
          ]
        }
      ]
    },
    {
      "cell_type": "code",
      "source": [
        "#creating test and training set\n",
        "from sklearn.model_selection import train_test_split\n",
        "X_train, X_test, y_train, y_test = train_test_split(x, y, test_size= 0.25, random_state = 4)"
      ],
      "metadata": {
        "id": "bDBITYC57aiW"
      },
      "execution_count": null,
      "outputs": []
    },
    {
      "cell_type": "code",
      "source": [
        "#model building \n",
        "from sklearn.linear_model import LinearRegression\n",
        "model=LinearRegression()"
      ],
      "metadata": {
        "id": "xZ6u_x-VqnNY"
      },
      "execution_count": null,
      "outputs": []
    },
    {
      "cell_type": "code",
      "source": [
        "model.fit(X_train,y_train)"
      ],
      "metadata": {
        "colab": {
          "base_uri": "https://localhost:8080/"
        },
        "id": "XMq6UaqA4x4i",
        "outputId": "f8acfeda-d156-4018-e1e8-692047da1c1c"
      },
      "execution_count": null,
      "outputs": [
        {
          "output_type": "execute_result",
          "data": {
            "text/plain": [
              "LinearRegression()"
            ]
          },
          "metadata": {},
          "execution_count": 35
        }
      ]
    },
    {
      "cell_type": "code",
      "source": [
        "print(model.intercept_)\n"
      ],
      "metadata": {
        "colab": {
          "base_uri": "https://localhost:8080/"
        },
        "id": "kbpUI1OYUBJv",
        "outputId": "b8e7193d-58e5-450a-fc56-00e87dcaa018"
      },
      "execution_count": null,
      "outputs": [
        {
          "output_type": "stream",
          "name": "stdout",
          "text": [
            "-2249502.6509735957\n"
          ]
        }
      ]
    },
    {
      "cell_type": "code",
      "source": [
        "#predicticg the y value\n",
        "ypred= model.predict(X_test)\n",
        "print(ypred)"
      ],
      "metadata": {
        "colab": {
          "base_uri": "https://localhost:8080/"
        },
        "id": "pnNwSUQLWar9",
        "outputId": "66b1a792-1cb3-49a5-9c33-8e2d14b9baeb"
      },
      "execution_count": null,
      "outputs": [
        {
          "output_type": "stream",
          "name": "stdout",
          "text": [
            "[1161843.62254892 1102258.81671246 1186592.69708807 ... 1294509.60273836\n",
            " 1753048.53923373 1043884.5357145 ]\n"
          ]
        }
      ]
    },
    {
      "cell_type": "code",
      "source": [
        "plt.scatter(y_test,ypred)\n",
        "print(y_test)\n",
        "print(ypred)"
      ],
      "metadata": {
        "colab": {
          "base_uri": "https://localhost:8080/",
          "height": 532
        },
        "id": "O4dKL4SMTuJx",
        "outputId": "e5b0f4d9-a341-4990-f07a-c978354408d6"
      },
      "execution_count": null,
      "outputs": [
        {
          "output_type": "stream",
          "name": "stdout",
          "text": [
            "2175    1.051173e+06\n",
            "3156    1.139073e+06\n",
            "337     1.236932e+06\n",
            "444     5.668962e+05\n",
            "2334    9.346104e+05\n",
            "            ...     \n",
            "4622    1.145804e+06\n",
            "3948    1.418724e+06\n",
            "4578    1.342068e+06\n",
            "2420    1.737982e+06\n",
            "2065    9.498799e+05\n",
            "Name: Price, Length: 1250, dtype: float64\n",
            "[1161843.62254892 1102258.81671246 1186592.69708807 ... 1294509.60273836\n",
            " 1753048.53923373 1043884.5357145 ]\n"
          ]
        },
        {
          "output_type": "display_data",
          "data": {
            "text/plain": [
              "<Figure size 432x288 with 1 Axes>"
            ],
            "image/png": "[encoded data removed]"
          },
          "metadata": {
            "needs_background": "light"
          }
        }
      ]
    }
  ]
}