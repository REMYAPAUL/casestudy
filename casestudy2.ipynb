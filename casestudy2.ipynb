{
  "nbformat": 4,
  "nbformat_minor": 0,
  "metadata": {
    "colab": {
      "provenance": [],
      "collapsed_sections": []
    },
    "kernelspec": {
      "name": "python3",
      "display_name": "Python 3"
    },
    "language_info": {
      "name": "python"
    }
  },
  "cells": [
    {
      "cell_type": "code",
      "execution_count": 91,
      "metadata": {
        "id": "klupi5CfG_yh"
      },
      "outputs": [],
      "source": [
        "import numpy as np\n",
        "import pandas as pd\n",
        "import matplotlib.pyplot as plt\n",
        "df = pd.read_csv('/content/salary (1).csv')"
      ]
    },
    {
      "cell_type": "code",
      "source": [
        "#knowing the data\n",
        "print(df.head)"
      ],
      "metadata": {
        "colab": {
          "base_uri": "https://localhost:8080/"
        },
        "id": "vIR8yF4tH3Rh",
        "outputId": "089e614c-31d2-4a17-9a9c-7e15084f13d5"
      },
      "execution_count": 92,
      "outputs": [
        {
          "output_type": "stream",
          "name": "stdout",
          "text": [
            "<bound method NDFrame.head of        age          workclass  fnlwgt    education  education-num  \\\n",
            "0       39          State-gov   77516    Bachelors             13   \n",
            "1       50   Self-emp-not-inc   83311    Bachelors             13   \n",
            "2       38            Private  215646      HS-grad              9   \n",
            "3       53            Private  234721         11th              7   \n",
            "4       28            Private  338409    Bachelors             13   \n",
            "...    ...                ...     ...          ...            ...   \n",
            "32556   27            Private  257302   Assoc-acdm             12   \n",
            "32557   40            Private  154374      HS-grad              9   \n",
            "32558   58            Private  151910      HS-grad              9   \n",
            "32559   22            Private  201490      HS-grad              9   \n",
            "32560   52       Self-emp-inc  287927      HS-grad              9   \n",
            "\n",
            "            marital-status          occupation    relationship    race  \\\n",
            "0            Never-married        Adm-clerical   Not-in-family   White   \n",
            "1       Married-civ-spouse     Exec-managerial         Husband   White   \n",
            "2                 Divorced   Handlers-cleaners   Not-in-family   White   \n",
            "3       Married-civ-spouse   Handlers-cleaners         Husband   Black   \n",
            "4       Married-civ-spouse      Prof-specialty            Wife   Black   \n",
            "...                    ...                 ...             ...     ...   \n",
            "32556   Married-civ-spouse        Tech-support            Wife   White   \n",
            "32557   Married-civ-spouse   Machine-op-inspct         Husband   White   \n",
            "32558              Widowed        Adm-clerical       Unmarried   White   \n",
            "32559        Never-married        Adm-clerical       Own-child   White   \n",
            "32560   Married-civ-spouse     Exec-managerial            Wife   White   \n",
            "\n",
            "           sex  capital-gain  capital-loss  hours-per-week  native-country  \\\n",
            "0         Male          2174             0              40   United-States   \n",
            "1         Male             0             0              13   United-States   \n",
            "2         Male             0             0              40   United-States   \n",
            "3         Male             0             0              40   United-States   \n",
            "4       Female             0             0              40            Cuba   \n",
            "...        ...           ...           ...             ...             ...   \n",
            "32556   Female             0             0              38   United-States   \n",
            "32557     Male             0             0              40   United-States   \n",
            "32558   Female             0             0              40   United-States   \n",
            "32559     Male             0             0              20   United-States   \n",
            "32560   Female         15024             0              40   United-States   \n",
            "\n",
            "       salary  \n",
            "0       <=50K  \n",
            "1       <=50K  \n",
            "2       <=50K  \n",
            "3       <=50K  \n",
            "4       <=50K  \n",
            "...       ...  \n",
            "32556   <=50K  \n",
            "32557    >50K  \n",
            "32558   <=50K  \n",
            "32559   <=50K  \n",
            "32560    >50K  \n",
            "\n",
            "[32561 rows x 15 columns]>\n"
          ]
        }
      ]
    },
    {
      "cell_type": "code",
      "source": [
        "#knowing the data\n",
        "df.shape"
      ],
      "metadata": {
        "colab": {
          "base_uri": "https://localhost:8080/"
        },
        "id": "KIg-BgCDL2FZ",
        "outputId": "33ac711e-bab3-4c89-bf74-cc6fef8f3979"
      },
      "execution_count": 93,
      "outputs": [
        {
          "output_type": "execute_result",
          "data": {
            "text/plain": [
              "(32561, 15)"
            ]
          },
          "metadata": {},
          "execution_count": 93
        }
      ]
    },
    {
      "cell_type": "code",
      "source": [
        "#knowing the data\n",
        "df.info()"
      ],
      "metadata": {
        "colab": {
          "base_uri": "https://localhost:8080/"
        },
        "id": "rF13V8KOMBUg",
        "outputId": "3ce8222c-9b22-405e-ac93-4787f7bba830"
      },
      "execution_count": 94,
      "outputs": [
        {
          "output_type": "stream",
          "name": "stdout",
          "text": [
            "<class 'pandas.core.frame.DataFrame'>\n",
            "RangeIndex: 32561 entries, 0 to 32560\n",
            "Data columns (total 15 columns):\n",
            " #   Column          Non-Null Count  Dtype \n",
            "---  ------          --------------  ----- \n",
            " 0   age             32561 non-null  int64 \n",
            " 1   workclass       32561 non-null  object\n",
            " 2   fnlwgt          32561 non-null  int64 \n",
            " 3   education       32561 non-null  object\n",
            " 4   education-num   32561 non-null  int64 \n",
            " 5   marital-status  32561 non-null  object\n",
            " 6   occupation      32561 non-null  object\n",
            " 7   relationship    32561 non-null  object\n",
            " 8   race            32561 non-null  object\n",
            " 9   sex             32561 non-null  object\n",
            " 10  capital-gain    32561 non-null  int64 \n",
            " 11  capital-loss    32561 non-null  int64 \n",
            " 12  hours-per-week  32561 non-null  int64 \n",
            " 13  native-country  32561 non-null  object\n",
            " 14  salary          32561 non-null  object\n",
            "dtypes: int64(6), object(9)\n",
            "memory usage: 3.7+ MB\n"
          ]
        }
      ]
    },
    {
      "cell_type": "code",
      "source": [
        "df['workclass'].value_counts()"
      ],
      "metadata": {
        "colab": {
          "base_uri": "https://localhost:8080/"
        },
        "id": "nwo2r7MZS1Ha",
        "outputId": "e5bdffee-9986-4f02-bc1e-41b0c3073f30"
      },
      "execution_count": 95,
      "outputs": [
        {
          "output_type": "execute_result",
          "data": {
            "text/plain": [
              " Private             22696\n",
              " Self-emp-not-inc     2541\n",
              " Local-gov            2093\n",
              " ?                    1836\n",
              " State-gov            1298\n",
              " Self-emp-inc         1116\n",
              " Federal-gov           960\n",
              " Without-pay            14\n",
              " Never-worked            7\n",
              "Name: workclass, dtype: int64"
            ]
          },
          "metadata": {},
          "execution_count": 95
        }
      ]
    },
    {
      "cell_type": "code",
      "source": [
        "df['fnlwgt'].value_counts()"
      ],
      "metadata": {
        "colab": {
          "base_uri": "https://localhost:8080/"
        },
        "id": "K1Yp9nuBu7zy",
        "outputId": "5930d996-a1d8-4a9f-a405-63d9e503d56b"
      },
      "execution_count": 96,
      "outputs": [
        {
          "output_type": "execute_result",
          "data": {
            "text/plain": [
              "164190    13\n",
              "203488    13\n",
              "123011    13\n",
              "148995    12\n",
              "121124    12\n",
              "          ..\n",
              "232784     1\n",
              "325573     1\n",
              "140176     1\n",
              "318264     1\n",
              "257302     1\n",
              "Name: fnlwgt, Length: 21648, dtype: int64"
            ]
          },
          "metadata": {},
          "execution_count": 96
        }
      ]
    },
    {
      "cell_type": "code",
      "source": [
        "df['education-num'].value_counts()"
      ],
      "metadata": {
        "colab": {
          "base_uri": "https://localhost:8080/"
        },
        "id": "RUrk4SDc8UAP",
        "outputId": "818f6875-4eb0-431f-dc91-7164cd5acf4b"
      },
      "execution_count": 97,
      "outputs": [
        {
          "output_type": "execute_result",
          "data": {
            "text/plain": [
              "9     10501\n",
              "10     7291\n",
              "13     5355\n",
              "14     1723\n",
              "11     1382\n",
              "7      1175\n",
              "12     1067\n",
              "6       933\n",
              "4       646\n",
              "15      576\n",
              "5       514\n",
              "8       433\n",
              "16      413\n",
              "3       333\n",
              "2       168\n",
              "1        51\n",
              "Name: education-num, dtype: int64"
            ]
          },
          "metadata": {},
          "execution_count": 97
        }
      ]
    },
    {
      "cell_type": "code",
      "source": [
        "df['marital-status'].value_counts()"
      ],
      "metadata": {
        "colab": {
          "base_uri": "https://localhost:8080/"
        },
        "id": "CYINwYai8kDx",
        "outputId": "fe007024-e499-4b88-b3fe-602e8b4a1d63"
      },
      "execution_count": 98,
      "outputs": [
        {
          "output_type": "execute_result",
          "data": {
            "text/plain": [
              " Married-civ-spouse       14976\n",
              " Never-married            10683\n",
              " Divorced                  4443\n",
              " Separated                 1025\n",
              " Widowed                    993\n",
              " Married-spouse-absent      418\n",
              " Married-AF-spouse           23\n",
              "Name: marital-status, dtype: int64"
            ]
          },
          "metadata": {},
          "execution_count": 98
        }
      ]
    },
    {
      "cell_type": "code",
      "source": [
        "df['occupation'].value_counts()"
      ],
      "metadata": {
        "colab": {
          "base_uri": "https://localhost:8080/"
        },
        "id": "IK7wMqKB8aai",
        "outputId": "078a5b9b-c133-4a9c-a400-eb91f6bd7d7c"
      },
      "execution_count": 99,
      "outputs": [
        {
          "output_type": "execute_result",
          "data": {
            "text/plain": [
              " Prof-specialty       4140\n",
              " Craft-repair         4099\n",
              " Exec-managerial      4066\n",
              " Adm-clerical         3770\n",
              " Sales                3650\n",
              " Other-service        3295\n",
              " Machine-op-inspct    2002\n",
              " ?                    1843\n",
              " Transport-moving     1597\n",
              " Handlers-cleaners    1370\n",
              " Farming-fishing       994\n",
              " Tech-support          928\n",
              " Protective-serv       649\n",
              " Priv-house-serv       149\n",
              " Armed-Forces            9\n",
              "Name: occupation, dtype: int64"
            ]
          },
          "metadata": {},
          "execution_count": 99
        }
      ]
    },
    {
      "cell_type": "code",
      "source": [
        "df['relationship'].value_counts()"
      ],
      "metadata": {
        "colab": {
          "base_uri": "https://localhost:8080/"
        },
        "id": "VOGnOP9s83Zp",
        "outputId": "9e81e15b-5d08-456c-8411-ef694faea112"
      },
      "execution_count": 100,
      "outputs": [
        {
          "output_type": "execute_result",
          "data": {
            "text/plain": [
              " Husband           13193\n",
              " Not-in-family      8305\n",
              " Own-child          5068\n",
              " Unmarried          3446\n",
              " Wife               1568\n",
              " Other-relative      981\n",
              "Name: relationship, dtype: int64"
            ]
          },
          "metadata": {},
          "execution_count": 100
        }
      ]
    },
    {
      "cell_type": "code",
      "source": [
        "df['race'].value_counts()"
      ],
      "metadata": {
        "colab": {
          "base_uri": "https://localhost:8080/"
        },
        "id": "bNONa4h2vEtl",
        "outputId": "7f74de0d-55f8-4527-a04b-b3f8981ea59b"
      },
      "execution_count": 101,
      "outputs": [
        {
          "output_type": "execute_result",
          "data": {
            "text/plain": [
              " White                 27816\n",
              " Black                  3124\n",
              " Asian-Pac-Islander     1039\n",
              " Amer-Indian-Eskimo      311\n",
              " Other                   271\n",
              "Name: race, dtype: int64"
            ]
          },
          "metadata": {},
          "execution_count": 101
        }
      ]
    },
    {
      "cell_type": "code",
      "source": [
        "#  capital-gain  capital-loss  hours-per-week  native-country\n",
        "df['sex'].value_counts()"
      ],
      "metadata": {
        "colab": {
          "base_uri": "https://localhost:8080/"
        },
        "id": "itK2DmqO9JGK",
        "outputId": "66789726-faa0-4a4a-afd6-75ac68d61f84"
      },
      "execution_count": 102,
      "outputs": [
        {
          "output_type": "execute_result",
          "data": {
            "text/plain": [
              " Male      21790\n",
              " Female    10771\n",
              "Name: sex, dtype: int64"
            ]
          },
          "metadata": {},
          "execution_count": 102
        }
      ]
    },
    {
      "cell_type": "code",
      "source": [
        "df['capital-gain'].value_counts()"
      ],
      "metadata": {
        "colab": {
          "base_uri": "https://localhost:8080/"
        },
        "id": "qp-jhFZU9VCu",
        "outputId": "0649b317-5ec3-4a59-be0a-0ec565d503f2"
      },
      "execution_count": 103,
      "outputs": [
        {
          "output_type": "execute_result",
          "data": {
            "text/plain": [
              "0        29849\n",
              "15024      347\n",
              "7688       284\n",
              "7298       246\n",
              "99999      159\n",
              "         ...  \n",
              "1111         1\n",
              "2538         1\n",
              "22040        1\n",
              "4931         1\n",
              "5060         1\n",
              "Name: capital-gain, Length: 119, dtype: int64"
            ]
          },
          "metadata": {},
          "execution_count": 103
        }
      ]
    },
    {
      "cell_type": "code",
      "source": [
        "df['capital-loss'].value_counts()"
      ],
      "metadata": {
        "colab": {
          "base_uri": "https://localhost:8080/"
        },
        "id": "Fr0ThrXo9bE6",
        "outputId": "2855c2aa-af7a-454a-9583-2091b71aec3d"
      },
      "execution_count": 104,
      "outputs": [
        {
          "output_type": "execute_result",
          "data": {
            "text/plain": [
              "0       31042\n",
              "1902      202\n",
              "1977      168\n",
              "1887      159\n",
              "1848       51\n",
              "        ...  \n",
              "2080        1\n",
              "1539        1\n",
              "1844        1\n",
              "2489        1\n",
              "1411        1\n",
              "Name: capital-loss, Length: 92, dtype: int64"
            ]
          },
          "metadata": {},
          "execution_count": 104
        }
      ]
    },
    {
      "cell_type": "code",
      "source": [
        "df['hours-per-week'].value_counts()"
      ],
      "metadata": {
        "colab": {
          "base_uri": "https://localhost:8080/"
        },
        "id": "u8nFHHBv9t12",
        "outputId": "9973c2be-f598-4605-fd7c-b40f519f2e43"
      },
      "execution_count": 105,
      "outputs": [
        {
          "output_type": "execute_result",
          "data": {
            "text/plain": [
              "40    15217\n",
              "50     2819\n",
              "45     1824\n",
              "60     1475\n",
              "35     1297\n",
              "      ...  \n",
              "82        1\n",
              "92        1\n",
              "87        1\n",
              "74        1\n",
              "94        1\n",
              "Name: hours-per-week, Length: 94, dtype: int64"
            ]
          },
          "metadata": {},
          "execution_count": 105
        }
      ]
    },
    {
      "cell_type": "code",
      "source": [
        "df['native-country'].value_counts()"
      ],
      "metadata": {
        "colab": {
          "base_uri": "https://localhost:8080/"
        },
        "id": "RWdBw73V9zvX",
        "outputId": "8701675e-9e9e-4cd2-90db-924d340c85d0"
      },
      "execution_count": 106,
      "outputs": [
        {
          "output_type": "execute_result",
          "data": {
            "text/plain": [
              " United-States                 29170\n",
              " Mexico                          643\n",
              " ?                               583\n",
              " Philippines                     198\n",
              " Germany                         137\n",
              " Canada                          121\n",
              " Puerto-Rico                     114\n",
              " El-Salvador                     106\n",
              " India                           100\n",
              " Cuba                             95\n",
              " England                          90\n",
              " Jamaica                          81\n",
              " South                            80\n",
              " China                            75\n",
              " Italy                            73\n",
              " Dominican-Republic               70\n",
              " Vietnam                          67\n",
              " Guatemala                        64\n",
              " Japan                            62\n",
              " Poland                           60\n",
              " Columbia                         59\n",
              " Taiwan                           51\n",
              " Haiti                            44\n",
              " Iran                             43\n",
              " Portugal                         37\n",
              " Nicaragua                        34\n",
              " Peru                             31\n",
              " France                           29\n",
              " Greece                           29\n",
              " Ecuador                          28\n",
              " Ireland                          24\n",
              " Hong                             20\n",
              " Cambodia                         19\n",
              " Trinadad&Tobago                  19\n",
              " Laos                             18\n",
              " Thailand                         18\n",
              " Yugoslavia                       16\n",
              " Outlying-US(Guam-USVI-etc)       14\n",
              " Honduras                         13\n",
              " Hungary                          13\n",
              " Scotland                         12\n",
              " Holand-Netherlands                1\n",
              "Name: native-country, dtype: int64"
            ]
          },
          "metadata": {},
          "execution_count": 106
        }
      ]
    },
    {
      "cell_type": "code",
      "source": [
        "df.isna().sum()"
      ],
      "metadata": {
        "colab": {
          "base_uri": "https://localhost:8080/"
        },
        "id": "SxSi6XAGTtCz",
        "outputId": "36a0f05d-8dde-48d2-e33e-4199e13575dc"
      },
      "execution_count": 107,
      "outputs": [
        {
          "output_type": "execute_result",
          "data": {
            "text/plain": [
              "age               0\n",
              "workclass         0\n",
              "fnlwgt            0\n",
              "education         0\n",
              "education-num     0\n",
              "marital-status    0\n",
              "occupation        0\n",
              "relationship      0\n",
              "race              0\n",
              "sex               0\n",
              "capital-gain      0\n",
              "capital-loss      0\n",
              "hours-per-week    0\n",
              "native-country    0\n",
              "salary            0\n",
              "dtype: int64"
            ]
          },
          "metadata": {},
          "execution_count": 107
        }
      ]
    },
    {
      "cell_type": "code",
      "source": [
        "#finding zero values\n",
        "for column_name in df.columns:\n",
        "  count = (df[column_name] == 0).sum()\n",
        "  print(column_name,count)"
      ],
      "metadata": {
        "colab": {
          "base_uri": "https://localhost:8080/"
        },
        "id": "uD_pR6h3MEDM",
        "outputId": "b901605e-fa85-47df-f349-9089aa93e1a4"
      },
      "execution_count": 108,
      "outputs": [
        {
          "output_type": "stream",
          "name": "stdout",
          "text": [
            "age 0\n",
            "workclass 0\n",
            "fnlwgt 0\n",
            "education 0\n",
            "education-num 0\n",
            "marital-status 0\n",
            "occupation 0\n",
            "relationship 0\n",
            "race 0\n",
            "sex 0\n",
            "capital-gain 29849\n",
            "capital-loss 31042\n",
            "hours-per-week 0\n",
            "native-country 0\n",
            "salary 0\n"
          ]
        }
      ]
    },
    {
      "cell_type": "code",
      "source": [
        "df1=df.drop(\"capital-gain\",axis=1)\n",
        "df2=df1.drop(\"capital-loss\",axis=1)\n",
        "df2.head()"
      ],
      "metadata": {
        "colab": {
          "base_uri": "https://localhost:8080/",
          "height": 206
        },
        "id": "ua0LvjGxM7v7",
        "outputId": "e755b181-de16-46dd-92b4-16beab0df06c"
      },
      "execution_count": 109,
      "outputs": [
        {
          "output_type": "execute_result",
          "data": {
            "text/plain": [
              "   age          workclass  fnlwgt   education  education-num  \\\n",
              "0   39          State-gov   77516   Bachelors             13   \n",
              "1   50   Self-emp-not-inc   83311   Bachelors             13   \n",
              "2   38            Private  215646     HS-grad              9   \n",
              "3   53            Private  234721        11th              7   \n",
              "4   28            Private  338409   Bachelors             13   \n",
              "\n",
              "        marital-status          occupation    relationship    race      sex  \\\n",
              "0        Never-married        Adm-clerical   Not-in-family   White     Male   \n",
              "1   Married-civ-spouse     Exec-managerial         Husband   White     Male   \n",
              "2             Divorced   Handlers-cleaners   Not-in-family   White     Male   \n",
              "3   Married-civ-spouse   Handlers-cleaners         Husband   Black     Male   \n",
              "4   Married-civ-spouse      Prof-specialty            Wife   Black   Female   \n",
              "\n",
              "   hours-per-week  native-country  salary  \n",
              "0              40   United-States   <=50K  \n",
              "1              13   United-States   <=50K  \n",
              "2              40   United-States   <=50K  \n",
              "3              40   United-States   <=50K  \n",
              "4              40            Cuba   <=50K  "
            ],
            "text/html": [
              "\n",
              "  <div id=\"df-df8c4cf1-17d0-4b21-a4f0-25036832b370\">\n",
              "    <div class=\"colab-df-container\">\n",
              "      <div>\n",
              "<style scoped>\n",
              "    .dataframe tbody tr th:only-of-type {\n",
              "        vertical-align: middle;\n",
              "    }\n",
              "\n",
              "    .dataframe tbody tr th {\n",
              "        vertical-align: top;\n",
              "    }\n",
              "\n",
              "    .dataframe thead th {\n",
              "        text-align: right;\n",
              "    }\n",
              "</style>\n",
              "<table border=\"1\" class=\"dataframe\">\n",
              "  <thead>\n",
              "    <tr style=\"text-align: right;\">\n",
              "      <th></th>\n",
              "      <th>age</th>\n",
              "      <th>workclass</th>\n",
              "      <th>fnlwgt</th>\n",
              "      <th>education</th>\n",
              "      <th>education-num</th>\n",
              "      <th>marital-status</th>\n",
              "      <th>occupation</th>\n",
              "      <th>relationship</th>\n",
              "      <th>race</th>\n",
              "      <th>sex</th>\n",
              "      <th>hours-per-week</th>\n",
              "      <th>native-country</th>\n",
              "      <th>salary</th>\n",
              "    </tr>\n",
              "  </thead>\n",
              "  <tbody>\n",
              "    <tr>\n",
              "      <th>0</th>\n",
              "      <td>39</td>\n",
              "      <td>State-gov</td>\n",
              "      <td>77516</td>\n",
              "      <td>Bachelors</td>\n",
              "      <td>13</td>\n",
              "      <td>Never-married</td>\n",
              "      <td>Adm-clerical</td>\n",
              "      <td>Not-in-family</td>\n",
              "      <td>White</td>\n",
              "      <td>Male</td>\n",
              "      <td>40</td>\n",
              "      <td>United-States</td>\n",
              "      <td>&lt;=50K</td>\n",
              "    </tr>\n",
              "    <tr>\n",
              "      <th>1</th>\n",
              "      <td>50</td>\n",
              "      <td>Self-emp-not-inc</td>\n",
              "      <td>83311</td>\n",
              "      <td>Bachelors</td>\n",
              "      <td>13</td>\n",
              "      <td>Married-civ-spouse</td>\n",
              "      <td>Exec-managerial</td>\n",
              "      <td>Husband</td>\n",
              "      <td>White</td>\n",
              "      <td>Male</td>\n",
              "      <td>13</td>\n",
              "      <td>United-States</td>\n",
              "      <td>&lt;=50K</td>\n",
              "    </tr>\n",
              "    <tr>\n",
              "      <th>2</th>\n",
              "      <td>38</td>\n",
              "      <td>Private</td>\n",
              "      <td>215646</td>\n",
              "      <td>HS-grad</td>\n",
              "      <td>9</td>\n",
              "      <td>Divorced</td>\n",
              "      <td>Handlers-cleaners</td>\n",
              "      <td>Not-in-family</td>\n",
              "      <td>White</td>\n",
              "      <td>Male</td>\n",
              "      <td>40</td>\n",
              "      <td>United-States</td>\n",
              "      <td>&lt;=50K</td>\n",
              "    </tr>\n",
              "    <tr>\n",
              "      <th>3</th>\n",
              "      <td>53</td>\n",
              "      <td>Private</td>\n",
              "      <td>234721</td>\n",
              "      <td>11th</td>\n",
              "      <td>7</td>\n",
              "      <td>Married-civ-spouse</td>\n",
              "      <td>Handlers-cleaners</td>\n",
              "      <td>Husband</td>\n",
              "      <td>Black</td>\n",
              "      <td>Male</td>\n",
              "      <td>40</td>\n",
              "      <td>United-States</td>\n",
              "      <td>&lt;=50K</td>\n",
              "    </tr>\n",
              "    <tr>\n",
              "      <th>4</th>\n",
              "      <td>28</td>\n",
              "      <td>Private</td>\n",
              "      <td>338409</td>\n",
              "      <td>Bachelors</td>\n",
              "      <td>13</td>\n",
              "      <td>Married-civ-spouse</td>\n",
              "      <td>Prof-specialty</td>\n",
              "      <td>Wife</td>\n",
              "      <td>Black</td>\n",
              "      <td>Female</td>\n",
              "      <td>40</td>\n",
              "      <td>Cuba</td>\n",
              "      <td>&lt;=50K</td>\n",
              "    </tr>\n",
              "  </tbody>\n",
              "</table>\n",
              "</div>\n",
              "      <button class=\"colab-df-convert\" onclick=\"convertToInteractive('df-df8c4cf1-17d0-4b21-a4f0-25036832b370')\"\n",
              "              title=\"Convert this dataframe to an interactive table.\"\n",
              "              style=\"display:none;\">\n",
              "        \n",
              "  <svg xmlns=\"http://www.w3.org/2000/svg\" height=\"24px\"viewBox=\"0 0 24 24\"\n",
              "       width=\"24px\">\n",
              "    <path d=\"M0 0h24v24H0V0z\" fill=\"none\"/>\n",
              "    <path d=\"M18.56 5.44l.94 2.06.94-2.06 2.06-.94-2.06-.94-.94-2.06-.94 2.06-2.06.94zm-11 1L8.5 8.5l.94-2.06 2.06-.94-2.06-.94L8.5 2.5l-.94 2.06-2.06.94zm10 10l.94 2.06.94-2.06 2.06-.94-2.06-.94-.94-2.06-.94 2.06-2.06.94z\"/><path d=\"M17.41 7.96l-1.37-1.37c-.4-.4-.92-.59-1.43-.59-.52 0-1.04.2-1.43.59L10.3 9.45l-7.72 7.72c-.78.78-.78 2.05 0 2.83L4 21.41c.39.39.9.59 1.41.59.51 0 1.02-.2 1.41-.59l7.78-7.78 2.81-2.81c.8-.78.8-2.07 0-2.86zM5.41 20L4 18.59l7.72-7.72 1.47 1.35L5.41 20z\"/>\n",
              "  </svg>\n",
              "      </button>\n",
              "      \n",
              "  <style>\n",
              "    .colab-df-container {\n",
              "      display:flex;\n",
              "      flex-wrap:wrap;\n",
              "      gap: 12px;\n",
              "    }\n",
              "\n",
              "    .colab-df-convert {\n",
              "      background-color: #E8F0FE;\n",
              "      border: none;\n",
              "      border-radius: 50%;\n",
              "      cursor: pointer;\n",
              "      display: none;\n",
              "      fill: #1967D2;\n",
              "      height: 32px;\n",
              "      padding: 0 0 0 0;\n",
              "      width: 32px;\n",
              "    }\n",
              "\n",
              "    .colab-df-convert:hover {\n",
              "      background-color: #E2EBFA;\n",
              "      box-shadow: 0px 1px 2px rgba(60, 64, 67, 0.3), 0px 1px 3px 1px rgba(60, 64, 67, 0.15);\n",
              "      fill: #174EA6;\n",
              "    }\n",
              "\n",
              "    [theme=dark] .colab-df-convert {\n",
              "      background-color: #3B4455;\n",
              "      fill: #D2E3FC;\n",
              "    }\n",
              "\n",
              "    [theme=dark] .colab-df-convert:hover {\n",
              "      background-color: #434B5C;\n",
              "      box-shadow: 0px 1px 3px 1px rgba(0, 0, 0, 0.15);\n",
              "      filter: drop-shadow(0px 1px 2px rgba(0, 0, 0, 0.3));\n",
              "      fill: #FFFFFF;\n",
              "    }\n",
              "  </style>\n",
              "\n",
              "      <script>\n",
              "        const buttonEl =\n",
              "          document.querySelector('#df-df8c4cf1-17d0-4b21-a4f0-25036832b370 button.colab-df-convert');\n",
              "        buttonEl.style.display =\n",
              "          google.colab.kernel.accessAllowed ? 'block' : 'none';\n",
              "\n",
              "        async function convertToInteractive(key) {\n",
              "          const element = document.querySelector('#df-df8c4cf1-17d0-4b21-a4f0-25036832b370');\n",
              "          const dataTable =\n",
              "            await google.colab.kernel.invokeFunction('convertToInteractive',\n",
              "                                                     [key], {});\n",
              "          if (!dataTable) return;\n",
              "\n",
              "          const docLinkHtml = 'Like what you see? Visit the ' +\n",
              "            '<a target=\"_blank\" href=https://colab.research.google.com/notebooks/data_table.ipynb>data table notebook</a>'\n",
              "            + ' to learn more about interactive tables.';\n",
              "          element.innerHTML = '';\n",
              "          dataTable['output_type'] = 'display_data';\n",
              "          await google.colab.output.renderOutput(dataTable, element);\n",
              "          const docLink = document.createElement('div');\n",
              "          docLink.innerHTML = docLinkHtml;\n",
              "          element.appendChild(docLink);\n",
              "        }\n",
              "      </script>\n",
              "    </div>\n",
              "  </div>\n",
              "  "
            ]
          },
          "metadata": {},
          "execution_count": 109
        }
      ]
    },
    {
      "cell_type": "code",
      "source": [
        "#education  education-num    education-num  \n",
        "plt.boxplot(df2['fnlwgt'])\n",
        "plt.show()"
      ],
      "metadata": {
        "colab": {
          "base_uri": "https://localhost:8080/",
          "height": 276
        },
        "id": "mDdlBAGXBCNI",
        "outputId": "bb22e803-797e-4aed-d7d3-f1499aa16521"
      },
      "execution_count": 110,
      "outputs": [
        {
          "output_type": "display_data",
          "data": {
            "text/plain": [
              "<Figure size 432x288 with 1 Axes>"
            ],
            "image/png": "[encoded data removed]"
          },
          "metadata": {
            "needs_background": "light"
          }
        }
      ]
    },
    {
      "cell_type": "code",
      "source": [
        "plt.boxplot(df2['hours-per-week'])\n",
        "plt.show()"
      ],
      "metadata": {
        "colab": {
          "base_uri": "https://localhost:8080/",
          "height": 265
        },
        "id": "bjiplNPDFWFw",
        "outputId": "17ad5733-a0c7-48c8-94a5-ab28650cde57"
      },
      "execution_count": 111,
      "outputs": [
        {
          "output_type": "display_data",
          "data": {
            "text/plain": [
              "<Figure size 432x288 with 1 Axes>"
            ],
            "image/png": "[encoded data removed]"
          },
          "metadata": {
            "needs_background": "light"
          }
        }
      ]
    },
    {
      "cell_type": "code",
      "source": [
        "plt.boxplot(df2['education-num'])\n",
        "plt.show()"
      ],
      "metadata": {
        "colab": {
          "base_uri": "https://localhost:8080/",
          "height": 265
        },
        "id": "zOfuBtWrAFHj",
        "outputId": "d4ac109a-b762-4864-f74b-3831526c9727"
      },
      "execution_count": 112,
      "outputs": [
        {
          "output_type": "display_data",
          "data": {
            "text/plain": [
              "<Figure size 432x288 with 1 Axes>"
            ],
            "image/png": "[encoded data removed]"
          },
          "metadata": {
            "needs_background": "light"
          }
        }
      ]
    },
    {
      "cell_type": "code",
      "source": [
        "import seaborn as sns\n",
        "sns.pairplot(df2[['fnlwgt','hours-per-week','education-num']])\n",
        "plt.show()"
      ],
      "metadata": {
        "colab": {
          "base_uri": "https://localhost:8080/",
          "height": 550
        },
        "id": "Lbg5iXjwGeIV",
        "outputId": "1683e492-a5df-4202-ca95-145e02c24eea"
      },
      "execution_count": 113,
      "outputs": [
        {
          "output_type": "display_data",
          "data": {
            "text/plain": [
              "<Figure size 540x540 with 12 Axes>"
            ],
            "image/png": "[encoded data removed]"
          },
          "metadata": {
            "needs_background": "light"
          }
        }
      ]
    },
    {
      "cell_type": "code",
      "source": [
        "plt.scatter(df2['fnlwgt'],df2['hours-per-week'])\n",
        "plt.title(\"fnlwgt hours-per-week\")\n",
        "plt.show()"
      ],
      "metadata": {
        "colab": {
          "base_uri": "https://localhost:8080/",
          "height": 294
        },
        "id": "fpwLLQqeUfoV",
        "outputId": "52a0febc-a512-4e6a-b885-34724d4007cd"
      },
      "execution_count": 114,
      "outputs": [
        {
          "output_type": "display_data",
          "data": {
            "text/plain": [
              "<Figure size 432x288 with 1 Axes>"
            ],
            "image/png": "[encoded data removed]"
          },
          "metadata": {
            "needs_background": "light"
          }
        }
      ]
    },
    {
      "cell_type": "code",
      "source": [
        "#finalweight removing outlier\n",
        "df2[df2['fnlwgt'] > 1000000].index\n"
      ],
      "metadata": {
        "colab": {
          "base_uri": "https://localhost:8080/"
        },
        "id": "OTLAXFXVgDZp",
        "outputId": "7f66e1cb-412d-4e4b-9add-09bc72debbec"
      },
      "execution_count": 115,
      "outputs": [
        {
          "output_type": "execute_result",
          "data": {
            "text/plain": [
              "Int64Index([  414,  5369,  8258,  9748, 14449, 15569, 16739, 18138, 23523,\n",
              "            25075, 27365, 27682, 29164],\n",
              "           dtype='int64')"
            ]
          },
          "metadata": {},
          "execution_count": 115
        }
      ]
    },
    {
      "cell_type": "code",
      "source": [
        "data3 = df2.drop([414,  5369,  8258,  9748, 14449, 15569, 16739, 18138, 23523,\n",
        "            25075, 27365, 27682, 29164])"
      ],
      "metadata": {
        "id": "n6zYh2Qng7PC"
      },
      "execution_count": 116,
      "outputs": []
    },
    {
      "cell_type": "code",
      "source": [
        "#replacing ? in workclass, occupation,native-country\n",
        "workclas = data3['workclass'].mode()[0]\n",
        "data3['workclass'] = data3['workclass'].str.replace(\"?\",workclas)"
      ],
      "metadata": {
        "colab": {
          "base_uri": "https://localhost:8080/"
        },
        "id": "WqiHDhioiOKW",
        "outputId": "002a384f-6140-4114-8594-83e339127997"
      },
      "execution_count": 117,
      "outputs": [
        {
          "output_type": "stream",
          "name": "stderr",
          "text": [
            "/usr/local/lib/python3.7/dist-packages/ipykernel_launcher.py:3: FutureWarning: The default value of regex will change from True to False in a future version. In addition, single character regular expressions will *not* be treated as literal strings when regex=True.\n",
            "  This is separate from the ipykernel package so we can avoid doing imports until\n"
          ]
        }
      ]
    },
    {
      "cell_type": "code",
      "source": [
        "#replacing ? in native-country \n",
        "nat = data3['native-country'].mode()[0]\n",
        "data3['native-country'] = data3['native-country'].str.replace(\"?\",nat)"
      ],
      "metadata": {
        "colab": {
          "base_uri": "https://localhost:8080/"
        },
        "id": "Y8hfhco3IAOe",
        "outputId": "91fc7774-b3c1-44b0-9930-88811a21d69e"
      },
      "execution_count": 118,
      "outputs": [
        {
          "output_type": "stream",
          "name": "stderr",
          "text": [
            "/usr/local/lib/python3.7/dist-packages/ipykernel_launcher.py:3: FutureWarning: The default value of regex will change from True to False in a future version. In addition, single character regular expressions will *not* be treated as literal strings when regex=True.\n",
            "  This is separate from the ipykernel package so we can avoid doing imports until\n"
          ]
        }
      ]
    },
    {
      "cell_type": "code",
      "source": [
        "occup = data3['occupation'].mode()[0]\n",
        "data3['occupation'] = data3['occupation'].str.replace(\"?\",occup)"
      ],
      "metadata": {
        "colab": {
          "base_uri": "https://localhost:8080/"
        },
        "id": "0fj5rYE4FL2p",
        "outputId": "f025bdaa-2c9a-4c17-e9e6-a76148aa46e3"
      },
      "execution_count": 119,
      "outputs": [
        {
          "output_type": "stream",
          "name": "stderr",
          "text": [
            "/usr/local/lib/python3.7/dist-packages/ipykernel_launcher.py:2: FutureWarning: The default value of regex will change from True to False in a future version. In addition, single character regular expressions will *not* be treated as literal strings when regex=True.\n",
            "  \n"
          ]
        }
      ]
    },
    {
      "cell_type": "code",
      "source": [
        "#normalise fnlwgt','education-num','hours-per-week\n",
        "num_cols = ['fnlwgt','education-num','hours-per-week']\n",
        "from sklearn.preprocessing import StandardScaler\n",
        "sc = StandardScaler()\n",
        "data3.loc[:,num_cols] = sc.fit_transform(data3[num_cols])"
      ],
      "metadata": {
        "id": "7WtS31g3G4XD"
      },
      "execution_count": 120,
      "outputs": []
    },
    {
      "cell_type": "code",
      "source": [
        "#label encoding\n",
        "from sklearn.preprocessing import LabelEncoder\n",
        "label_encoder = LabelEncoder()\n",
        "label_encoder.fit(data3['workclass'])\n",
        "print(label_encoder.classes_)\n",
        "data3[\"workclass\"].value_counts()\n"
      ],
      "metadata": {
        "colab": {
          "base_uri": "https://localhost:8080/"
        },
        "id": "yPEuBRtHH3SG",
        "outputId": "4a5596d8-3593-4315-d0d7-5831d225bde4"
      },
      "execution_count": 121,
      "outputs": [
        {
          "output_type": "stream",
          "name": "stdout",
          "text": [
            "['  Private' ' Federal-gov' ' Local-gov' ' Never-worked' ' Private'\n",
            " ' Self-emp-inc' ' Self-emp-not-inc' ' State-gov' ' Without-pay']\n"
          ]
        },
        {
          "output_type": "execute_result",
          "data": {
            "text/plain": [
              " Private             22686\n",
              " Self-emp-not-inc     2541\n",
              " Local-gov            2092\n",
              "  Private             1836\n",
              " State-gov            1297\n",
              " Self-emp-inc         1115\n",
              " Federal-gov           960\n",
              " Without-pay            14\n",
              " Never-worked            7\n",
              "Name: workclass, dtype: int64"
            ]
          },
          "metadata": {},
          "execution_count": 121
        }
      ]
    },
    {
      "cell_type": "code",
      "source": [
        "label_encoder.classes_ = np.array([' Never-worked',' Without-pay',' Self-emp-not-inc',' Self-emp-inc','  Private', ' Private',' State-gov',' Local-gov',' Federal-gov'])\n",
        "data3['workclass'] =label_encoder.transform(data3['workclass'])"
      ],
      "metadata": {
        "id": "M8KfP7zENXui"
      },
      "execution_count": 122,
      "outputs": []
    },
    {
      "cell_type": "markdown",
      "source": [],
      "metadata": {
        "id": "6aUcVq9GQglN"
      }
    },
    {
      "cell_type": "code",
      "source": [
        "label_encoder.fit(data3['education'])\n",
        "print(label_encoder.classes_)\n"
      ],
      "metadata": {
        "colab": {
          "base_uri": "https://localhost:8080/"
        },
        "id": "TPiNHw5GQTjG",
        "outputId": "66d074dd-e2e5-464e-bc6d-f88a4c0a0592"
      },
      "execution_count": 123,
      "outputs": [
        {
          "output_type": "stream",
          "name": "stdout",
          "text": [
            "[' 10th' ' 11th' ' 12th' ' 1st-4th' ' 5th-6th' ' 7th-8th' ' 9th'\n",
            " ' Assoc-acdm' ' Assoc-voc' ' Bachelors' ' Doctorate' ' HS-grad'\n",
            " ' Masters' ' Preschool' ' Prof-school' ' Some-college']\n"
          ]
        }
      ]
    },
    {
      "cell_type": "code",
      "source": [
        "label_encoder.classes_ = np.array([' Preschool' ,' 1st-4th', ' 5th-6th' ,' 7th-8th' ,' HS-grad',' 9th',' 10th', ' 11th' ,' 12th',' Prof-school',' Some-college',' Bachelors' , ' Assoc-acdm', ' Assoc-voc', ' Masters',' Doctorate' ])\n",
        "data3['education'] =label_encoder.transform(data3['education'])"
      ],
      "metadata": {
        "id": "fsHF-6SuQg4_"
      },
      "execution_count": 124,
      "outputs": []
    },
    {
      "cell_type": "code",
      "source": [
        "data2 = pd.get_dummies(data=data3, columns=['marital-status',\"relationship\",'race','sex','occupation','native-country'])\n",
        "data2.head()\n"
      ],
      "metadata": {
        "colab": {
          "base_uri": "https://localhost:8080/",
          "height": 369
        },
        "id": "bZLwASPvQBug",
        "outputId": "4a375dc7-aaea-4677-96b6-61d57ad53b75"
      },
      "execution_count": 125,
      "outputs": [
        {
          "output_type": "execute_result",
          "data": {
            "text/plain": [
              "   age  workclass    fnlwgt  education  education-num  hours-per-week  salary  \\\n",
              "0   39          6 -1.079849         11       1.134687       -0.035481   <=50K   \n",
              "1   50          2 -1.023907         11       1.134687       -2.222222   <=50K   \n",
              "2   38          5  0.253599          4      -0.419927       -0.035481   <=50K   \n",
              "3   53          5  0.437740          7      -1.197233       -0.035481   <=50K   \n",
              "4   28          5  1.438700         11       1.134687       -0.035481   <=50K   \n",
              "\n",
              "   marital-status_ Divorced  marital-status_ Married-AF-spouse  \\\n",
              "0                         0                                  0   \n",
              "1                         0                                  0   \n",
              "2                         1                                  0   \n",
              "3                         0                                  0   \n",
              "4                         0                                  0   \n",
              "\n",
              "   marital-status_ Married-civ-spouse  ...  native-country_ Portugal  \\\n",
              "0                                   0  ...                         0   \n",
              "1                                   1  ...                         0   \n",
              "2                                   0  ...                         0   \n",
              "3                                   1  ...                         0   \n",
              "4                                   1  ...                         0   \n",
              "\n",
              "   native-country_ Puerto-Rico  native-country_ Scotland  \\\n",
              "0                            0                         0   \n",
              "1                            0                         0   \n",
              "2                            0                         0   \n",
              "3                            0                         0   \n",
              "4                            0                         0   \n",
              "\n",
              "   native-country_ South  native-country_ Taiwan  native-country_ Thailand  \\\n",
              "0                      0                       0                         0   \n",
              "1                      0                       0                         0   \n",
              "2                      0                       0                         0   \n",
              "3                      0                       0                         0   \n",
              "4                      0                       0                         0   \n",
              "\n",
              "   native-country_ Trinadad&Tobago  native-country_ United-States  \\\n",
              "0                                0                              1   \n",
              "1                                0                              1   \n",
              "2                                0                              1   \n",
              "3                                0                              1   \n",
              "4                                0                              0   \n",
              "\n",
              "   native-country_ Vietnam  native-country_ Yugoslavia  \n",
              "0                        0                           0  \n",
              "1                        0                           0  \n",
              "2                        0                           0  \n",
              "3                        0                           0  \n",
              "4                        0                           0  \n",
              "\n",
              "[5 rows x 84 columns]"
            ],
            "text/html": [
              "\n",
              "  <div id=\"df-b8c74fed-1c13-45fd-aed7-5fe3e89ffb5d\">\n",
              "    <div class=\"colab-df-container\">\n",
              "      <div>\n",
              "<style scoped>\n",
              "    .dataframe tbody tr th:only-of-type {\n",
              "        vertical-align: middle;\n",
              "    }\n",
              "\n",
              "    .dataframe tbody tr th {\n",
              "        vertical-align: top;\n",
              "    }\n",
              "\n",
              "    .dataframe thead th {\n",
              "        text-align: right;\n",
              "    }\n",
              "</style>\n",
              "<table border=\"1\" class=\"dataframe\">\n",
              "  <thead>\n",
              "    <tr style=\"text-align: right;\">\n",
              "      <th></th>\n",
              "      <th>age</th>\n",
              "      <th>workclass</th>\n",
              "      <th>fnlwgt</th>\n",
              "      <th>education</th>\n",
              "      <th>education-num</th>\n",
              "      <th>hours-per-week</th>\n",
              "      <th>salary</th>\n",
              "      <th>marital-status_ Divorced</th>\n",
              "      <th>marital-status_ Married-AF-spouse</th>\n",
              "      <th>marital-status_ Married-civ-spouse</th>\n",
              "      <th>...</th>\n",
              "      <th>native-country_ Portugal</th>\n",
              "      <th>native-country_ Puerto-Rico</th>\n",
              "      <th>native-country_ Scotland</th>\n",
              "      <th>native-country_ South</th>\n",
              "      <th>native-country_ Taiwan</th>\n",
              "      <th>native-country_ Thailand</th>\n",
              "      <th>native-country_ Trinadad&amp;Tobago</th>\n",
              "      <th>native-country_ United-States</th>\n",
              "      <th>native-country_ Vietnam</th>\n",
              "      <th>native-country_ Yugoslavia</th>\n",
              "    </tr>\n",
              "  </thead>\n",
              "  <tbody>\n",
              "    <tr>\n",
              "      <th>0</th>\n",
              "      <td>39</td>\n",
              "      <td>6</td>\n",
              "      <td>-1.079849</td>\n",
              "      <td>11</td>\n",
              "      <td>1.134687</td>\n",
              "      <td>-0.035481</td>\n",
              "      <td>&lt;=50K</td>\n",
              "      <td>0</td>\n",
              "      <td>0</td>\n",
              "      <td>0</td>\n",
              "      <td>...</td>\n",
              "      <td>0</td>\n",
              "      <td>0</td>\n",
              "      <td>0</td>\n",
              "      <td>0</td>\n",
              "      <td>0</td>\n",
              "      <td>0</td>\n",
              "      <td>0</td>\n",
              "      <td>1</td>\n",
              "      <td>0</td>\n",
              "      <td>0</td>\n",
              "    </tr>\n",
              "    <tr>\n",
              "      <th>1</th>\n",
              "      <td>50</td>\n",
              "      <td>2</td>\n",
              "      <td>-1.023907</td>\n",
              "      <td>11</td>\n",
              "      <td>1.134687</td>\n",
              "      <td>-2.222222</td>\n",
              "      <td>&lt;=50K</td>\n",
              "      <td>0</td>\n",
              "      <td>0</td>\n",
              "      <td>1</td>\n",
              "      <td>...</td>\n",
              "      <td>0</td>\n",
              "      <td>0</td>\n",
              "      <td>0</td>\n",
              "      <td>0</td>\n",
              "      <td>0</td>\n",
              "      <td>0</td>\n",
              "      <td>0</td>\n",
              "      <td>1</td>\n",
              "      <td>0</td>\n",
              "      <td>0</td>\n",
              "    </tr>\n",
              "    <tr>\n",
              "      <th>2</th>\n",
              "      <td>38</td>\n",
              "      <td>5</td>\n",
              "      <td>0.253599</td>\n",
              "      <td>4</td>\n",
              "      <td>-0.419927</td>\n",
              "      <td>-0.035481</td>\n",
              "      <td>&lt;=50K</td>\n",
              "      <td>1</td>\n",
              "      <td>0</td>\n",
              "      <td>0</td>\n",
              "      <td>...</td>\n",
              "      <td>0</td>\n",
              "      <td>0</td>\n",
              "      <td>0</td>\n",
              "      <td>0</td>\n",
              "      <td>0</td>\n",
              "      <td>0</td>\n",
              "      <td>0</td>\n",
              "      <td>1</td>\n",
              "      <td>0</td>\n",
              "      <td>0</td>\n",
              "    </tr>\n",
              "    <tr>\n",
              "      <th>3</th>\n",
              "      <td>53</td>\n",
              "      <td>5</td>\n",
              "      <td>0.437740</td>\n",
              "      <td>7</td>\n",
              "      <td>-1.197233</td>\n",
              "      <td>-0.035481</td>\n",
              "      <td>&lt;=50K</td>\n",
              "      <td>0</td>\n",
              "      <td>0</td>\n",
              "      <td>1</td>\n",
              "      <td>...</td>\n",
              "      <td>0</td>\n",
              "      <td>0</td>\n",
              "      <td>0</td>\n",
              "      <td>0</td>\n",
              "      <td>0</td>\n",
              "      <td>0</td>\n",
              "      <td>0</td>\n",
              "      <td>1</td>\n",
              "      <td>0</td>\n",
              "      <td>0</td>\n",
              "    </tr>\n",
              "    <tr>\n",
              "      <th>4</th>\n",
              "      <td>28</td>\n",
              "      <td>5</td>\n",
              "      <td>1.438700</td>\n",
              "      <td>11</td>\n",
              "      <td>1.134687</td>\n",
              "      <td>-0.035481</td>\n",
              "      <td>&lt;=50K</td>\n",
              "      <td>0</td>\n",
              "      <td>0</td>\n",
              "      <td>1</td>\n",
              "      <td>...</td>\n",
              "      <td>0</td>\n",
              "      <td>0</td>\n",
              "      <td>0</td>\n",
              "      <td>0</td>\n",
              "      <td>0</td>\n",
              "      <td>0</td>\n",
              "      <td>0</td>\n",
              "      <td>0</td>\n",
              "      <td>0</td>\n",
              "      <td>0</td>\n",
              "    </tr>\n",
              "  </tbody>\n",
              "</table>\n",
              "<p>5 rows × 84 columns</p>\n",
              "</div>\n",
              "      <button class=\"colab-df-convert\" onclick=\"convertToInteractive('df-b8c74fed-1c13-45fd-aed7-5fe3e89ffb5d')\"\n",
              "              title=\"Convert this dataframe to an interactive table.\"\n",
              "              style=\"display:none;\">\n",
              "        \n",
              "  <svg xmlns=\"http://www.w3.org/2000/svg\" height=\"24px\"viewBox=\"0 0 24 24\"\n",
              "       width=\"24px\">\n",
              "    <path d=\"M0 0h24v24H0V0z\" fill=\"none\"/>\n",
              "    <path d=\"M18.56 5.44l.94 2.06.94-2.06 2.06-.94-2.06-.94-.94-2.06-.94 2.06-2.06.94zm-11 1L8.5 8.5l.94-2.06 2.06-.94-2.06-.94L8.5 2.5l-.94 2.06-2.06.94zm10 10l.94 2.06.94-2.06 2.06-.94-2.06-.94-.94-2.06-.94 2.06-2.06.94z\"/><path d=\"M17.41 7.96l-1.37-1.37c-.4-.4-.92-.59-1.43-.59-.52 0-1.04.2-1.43.59L10.3 9.45l-7.72 7.72c-.78.78-.78 2.05 0 2.83L4 21.41c.39.39.9.59 1.41.59.51 0 1.02-.2 1.41-.59l7.78-7.78 2.81-2.81c.8-.78.8-2.07 0-2.86zM5.41 20L4 18.59l7.72-7.72 1.47 1.35L5.41 20z\"/>\n",
              "  </svg>\n",
              "      </button>\n",
              "      \n",
              "  <style>\n",
              "    .colab-df-container {\n",
              "      display:flex;\n",
              "      flex-wrap:wrap;\n",
              "      gap: 12px;\n",
              "    }\n",
              "\n",
              "    .colab-df-convert {\n",
              "      background-color: #E8F0FE;\n",
              "      border: none;\n",
              "      border-radius: 50%;\n",
              "      cursor: pointer;\n",
              "      display: none;\n",
              "      fill: #1967D2;\n",
              "      height: 32px;\n",
              "      padding: 0 0 0 0;\n",
              "      width: 32px;\n",
              "    }\n",
              "\n",
              "    .colab-df-convert:hover {\n",
              "      background-color: #E2EBFA;\n",
              "      box-shadow: 0px 1px 2px rgba(60, 64, 67, 0.3), 0px 1px 3px 1px rgba(60, 64, 67, 0.15);\n",
              "      fill: #174EA6;\n",
              "    }\n",
              "\n",
              "    [theme=dark] .colab-df-convert {\n",
              "      background-color: #3B4455;\n",
              "      fill: #D2E3FC;\n",
              "    }\n",
              "\n",
              "    [theme=dark] .colab-df-convert:hover {\n",
              "      background-color: #434B5C;\n",
              "      box-shadow: 0px 1px 3px 1px rgba(0, 0, 0, 0.15);\n",
              "      filter: drop-shadow(0px 1px 2px rgba(0, 0, 0, 0.3));\n",
              "      fill: #FFFFFF;\n",
              "    }\n",
              "  </style>\n",
              "\n",
              "      <script>\n",
              "        const buttonEl =\n",
              "          document.querySelector('#df-b8c74fed-1c13-45fd-aed7-5fe3e89ffb5d button.colab-df-convert');\n",
              "        buttonEl.style.display =\n",
              "          google.colab.kernel.accessAllowed ? 'block' : 'none';\n",
              "\n",
              "        async function convertToInteractive(key) {\n",
              "          const element = document.querySelector('#df-b8c74fed-1c13-45fd-aed7-5fe3e89ffb5d');\n",
              "          const dataTable =\n",
              "            await google.colab.kernel.invokeFunction('convertToInteractive',\n",
              "                                                     [key], {});\n",
              "          if (!dataTable) return;\n",
              "\n",
              "          const docLinkHtml = 'Like what you see? Visit the ' +\n",
              "            '<a target=\"_blank\" href=https://colab.research.google.com/notebooks/data_table.ipynb>data table notebook</a>'\n",
              "            + ' to learn more about interactive tables.';\n",
              "          element.innerHTML = '';\n",
              "          dataTable['output_type'] = 'display_data';\n",
              "          await google.colab.output.renderOutput(dataTable, element);\n",
              "          const docLink = document.createElement('div');\n",
              "          docLink.innerHTML = docLinkHtml;\n",
              "          element.appendChild(docLink);\n",
              "        }\n",
              "      </script>\n",
              "    </div>\n",
              "  </div>\n",
              "  "
            ]
          },
          "metadata": {},
          "execution_count": 125
        }
      ]
    },
    {
      "cell_type": "code",
      "source": [
        "x = data2.drop(\"salary\",axis=1)\n",
        "label_encoder.fit(data2[\"salary\"])\n",
        "data2[\"salary\"] =label_encoder.transform(data2[\"salary\"])\n",
        "y = data2[\"salary\"]"
      ],
      "metadata": {
        "id": "fjpcHgusSec_"
      },
      "execution_count": 142,
      "outputs": []
    },
    {
      "cell_type": "code",
      "source": [
        "#training and test set\n",
        "from sklearn.model_selection import train_test_split\n",
        "X_train, X_test, y_train, y_test = train_test_split(x,y, test_size=0.3, random_state=42)\n",
        "\n"
      ],
      "metadata": {
        "id": "qC-4DZF2T5jj"
      },
      "execution_count": 143,
      "outputs": []
    },
    {
      "cell_type": "code",
      "source": [
        "#decision tree\n",
        "from sklearn.tree import DecisionTreeClassifier\n",
        "clf = DecisionTreeClassifier()\n",
        "clf = clf.fit(X_train,y_train)\n",
        "y_pred = clf.predict(X_test)"
      ],
      "metadata": {
        "id": "53Wnpd91U8Di"
      },
      "execution_count": 144,
      "outputs": []
    },
    {
      "cell_type": "code",
      "source": [
        "from sklearn import metrics\n",
        "print(\"Accuracy:\",metrics.accuracy_score(y_test, y_pred))"
      ],
      "metadata": {
        "colab": {
          "base_uri": "https://localhost:8080/"
        },
        "id": "bWxXnjq7VOAI",
        "outputId": "10c2bff2-e17e-4b61-d274-a01cc99a8501"
      },
      "execution_count": 145,
      "outputs": [
        {
          "output_type": "stream",
          "name": "stdout",
          "text": [
            "Accuracy: 0.778289810547875\n"
          ]
        }
      ]
    },
    {
      "cell_type": "code",
      "source": [
        "#bagging classifier\n",
        "from sklearn.ensemble import BaggingClassifier\n",
        "tree = DecisionTreeClassifier()\n",
        "bagging_clf = BaggingClassifier(base_estimator=tree, n_estimators=100, random_state=42)\n",
        "bagging_clf.fit(X_train, y_train)\n",
        "y_pred = bagging_clf.predict(X_test)\n",
        "print(\"Accuracy: of bagging classifer\",metrics.accuracy_score(y_test, y_pred))"
      ],
      "metadata": {
        "colab": {
          "base_uri": "https://localhost:8080/"
        },
        "id": "4kmrjjD4VX3V",
        "outputId": "b42fcead-66dc-4e6a-95ca-086e64e04da4"
      },
      "execution_count": 147,
      "outputs": [
        {
          "output_type": "stream",
          "name": "stdout",
          "text": [
            "Accuracy: of bagging classifer 0.8268305171530977\n"
          ]
        }
      ]
    },
    {
      "cell_type": "code",
      "source": [
        "#random forest\n",
        "from sklearn.ensemble import RandomForestClassifier\n",
        "rf_clf = RandomForestClassifier(random_state=42, n_estimators=100)\n",
        "rf_clf.fit(X_train, y_train)\n",
        "y_pred = rf_clf.predict(X_test)\n",
        "print(\"Accuracy of random forest:\",metrics.accuracy_score(y_test, y_pred))"
      ],
      "metadata": {
        "colab": {
          "base_uri": "https://localhost:8080/"
        },
        "id": "YYxDnWelWTTW",
        "outputId": "f6a7474b-ba95-47fd-f59a-9b0b169967ed"
      },
      "execution_count": 148,
      "outputs": [
        {
          "output_type": "stream",
          "name": "stdout",
          "text": [
            "Accuracy of random forest: 0.830926779313876\n"
          ]
        }
      ]
    },
    {
      "cell_type": "code",
      "source": [
        "#adaboost\n",
        "from sklearn.ensemble import AdaBoostClassifier\n",
        "ada_boost_clf = AdaBoostClassifier(n_estimators=100)\n",
        "ada_boost_clf.fit(X_train, y_train)\n",
        "y_pred = ada_boost_clf.predict(X_test)\n",
        "print(\"Accuracy of adaboost\",metrics.accuracy_score(y_test, y_pred))"
      ],
      "metadata": {
        "colab": {
          "base_uri": "https://localhost:8080/"
        },
        "id": "mjmSVxUKWucc",
        "outputId": "e2527d0b-0888-468d-ef52-8061ba1bca26"
      },
      "execution_count": 150,
      "outputs": [
        {
          "output_type": "stream",
          "name": "stdout",
          "text": [
            "Accuracy of adaboost 0.8392217101894521\n"
          ]
        }
      ]
    }
  ]
}